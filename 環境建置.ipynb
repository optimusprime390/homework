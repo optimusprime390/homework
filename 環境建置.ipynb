{
  "nbformat": 4,
  "nbformat_minor": 0,
  "metadata": {
    "colab": {
      "provenance": []
    },
    "kernelspec": {
      "name": "python3",
      "display_name": "Python 3"
    },
    "language_info": {
      "name": "python"
    }
  },
  "cells": [
    {
      "cell_type": "code",
      "source": [
        "#1\n",
        "a=\"\"\"長庚大學\n",
        "醫學系\n",
        "曹家笙\"\"\"\n",
        "print(a)"
      ],
      "metadata": {
        "colab": {
          "base_uri": "https://localhost:8080/"
        },
        "id": "Rqtz03_Ge6Bn",
        "outputId": "4fc8dba0-0961-49c0-a174-5cae62267498"
      },
      "execution_count": null,
      "outputs": [
        {
          "output_type": "stream",
          "name": "stdout",
          "text": [
            "長庚大學\n",
            "醫學系\n",
            "曹家笙\n"
          ]
        }
      ]
    },
    {
      "cell_type": "code",
      "source": [
        "#2\n",
        "b=input(\"請輸入一個數字\")\n",
        "print(int(b)>10)"
      ],
      "metadata": {
        "colab": {
          "base_uri": "https://localhost:8080/"
        },
        "id": "-BLU8e9Te60W",
        "outputId": "1f692300-7319-47d7-c2f9-41933185ff9d"
      },
      "execution_count": null,
      "outputs": [
        {
          "output_type": "stream",
          "name": "stdout",
          "text": [
            "請輸入一個數字11\n",
            "True\n"
          ]
        }
      ]
    },
    {
      "cell_type": "code",
      "source": [
        "c=input(\"\")\n",
        "if int(c)>10:\n",
        "  print(\"true\")\n",
        "else:\n",
        "  print('false')"
      ],
      "metadata": {
        "colab": {
          "base_uri": "https://localhost:8080/"
        },
        "id": "UTiUlHVDjEdv",
        "outputId": "f6ae7231-e925-4fcc-8eab-3fca1fd33d61"
      },
      "execution_count": null,
      "outputs": [
        {
          "output_type": "stream",
          "name": "stdout",
          "text": [
            "11\n",
            "true\n"
          ]
        }
      ]
    },
    {
      "cell_type": "code",
      "source": [
        "#3\n",
        "a=3\n",
        "b=5\n",
        "print(a**b)"
      ],
      "metadata": {
        "colab": {
          "base_uri": "https://localhost:8080/"
        },
        "id": "oxQTfM2fjlU9",
        "outputId": "04876d63-ecea-440a-993e-e319ca19b180"
      },
      "execution_count": null,
      "outputs": [
        {
          "output_type": "stream",
          "name": "stdout",
          "text": [
            "243\n"
          ]
        }
      ]
    },
    {
      "cell_type": "code",
      "source": [
        "#4\n",
        "a=3\n",
        "b=5\n",
        "print(a!=b)"
      ],
      "metadata": {
        "colab": {
          "base_uri": "https://localhost:8080/"
        },
        "id": "woU7kZtPknNu",
        "outputId": "f5894471-24fc-463b-9a90-fd1175d05edd"
      },
      "execution_count": null,
      "outputs": [
        {
          "output_type": "stream",
          "name": "stdout",
          "text": [
            "True\n"
          ]
        }
      ]
    },
    {
      "cell_type": "code",
      "source": [
        "#5\n",
        "a=3\n",
        "b=5\n",
        "print(a/b)\n",
        "a/=b\n",
        "print(a)"
      ],
      "metadata": {
        "colab": {
          "base_uri": "https://localhost:8080/"
        },
        "id": "l6w3Vyx7lyYm",
        "outputId": "3e90395d-e6a5-4c6b-e3f1-9467dbc5d6e3"
      },
      "execution_count": null,
      "outputs": [
        {
          "output_type": "stream",
          "name": "stdout",
          "text": [
            "0.6\n",
            "0.6\n"
          ]
        }
      ]
    },
    {
      "cell_type": "code",
      "source": [
        "#1\n",
        "print(\"I'm a student\")"
      ],
      "metadata": {
        "colab": {
          "base_uri": "https://localhost:8080/"
        },
        "id": "Dt8Vpgs-nu3W",
        "outputId": "f515885b-4222-46c1-8f07-524310884be6"
      },
      "execution_count": null,
      "outputs": [
        {
          "output_type": "stream",
          "name": "stdout",
          "text": [
            "I'm a student\n"
          ]
        }
      ]
    },
    {
      "cell_type": "code",
      "source": [
        "#2\n",
        "x1=input('x1=')\n",
        "y1=input('y1=')\n",
        "x2=input('x2=')\n",
        "y2=input('y2=')\n",
        "d=((int(x1)-int(x2))**2+(int(y1)-int(y2))**2)**0.5\n",
        "print(d)"
      ],
      "metadata": {
        "colab": {
          "base_uri": "https://localhost:8080/"
        },
        "id": "mighaInYpGK-",
        "outputId": "74ff009c-8a7f-4ff2-ebeb-c54eba160c19"
      },
      "execution_count": null,
      "outputs": [
        {
          "output_type": "stream",
          "name": "stdout",
          "text": [
            "x1=0\n",
            "y1=0\n",
            "x2=4\n",
            "y2=3\n",
            "5.0\n"
          ]
        }
      ]
    },
    {
      "cell_type": "code",
      "source": [
        "a='C,B,A'\n",
        "b=['F','G','H']\n",
        "a=a.split(',')\n",
        "d=a+b\n",
        "d[0]='K'\n",
        "c=d.pop(2)\n",
        "del d[1:4]\n",
        "d.append('U')\n",
        "print(c)\n",
        "print(d)"
      ],
      "metadata": {
        "colab": {
          "base_uri": "https://localhost:8080/"
        },
        "id": "7dcrm4uNdAbv",
        "outputId": "c63e61f5-a660-4995-c7e0-3b871ae68ac7"
      },
      "execution_count": null,
      "outputs": [
        {
          "output_type": "stream",
          "name": "stdout",
          "text": [
            "A\n",
            "['K', 'H', 'U']\n"
          ]
        }
      ]
    },
    {
      "cell_type": "code",
      "source": [
        "h=input('輸入身高(公尺)')\n",
        "w=input('輸入體重(公斤)')\n",
        "bmi=(float(w)/float(h)/float(h))\n",
        "print(bmi)\n",
        "float(bmi)\n",
        "if bmi<18.5 :\n",
        "  print(\"過輕\")\n",
        "elif 18.5<=bmi<24:\n",
        "  print(\"適中\")\n",
        "elif 24<=bmi<27:\n",
        "  print(\"過重\")\n",
        "else:\n",
        "  print(\"肥胖\")"
      ],
      "metadata": {
        "colab": {
          "base_uri": "https://localhost:8080/"
        },
        "id": "pd_pZM3Jlxug",
        "outputId": "c52f0455-75a0-4384-ef81-cc3d4e8d1b98"
      },
      "execution_count": null,
      "outputs": [
        {
          "output_type": "stream",
          "name": "stdout",
          "text": [
            "輸入身高(公尺)1.91\n",
            "輸入體重(公斤)84\n",
            "23.025684602944\n",
            "適中\n"
          ]
        }
      ]
    },
    {
      "cell_type": "code",
      "source": [
        "print(\"輸入五個成績由大排到小\")\n",
        "a=input(\"輸入第一個成績:\")\n",
        "b=input(\"輸入第二個成績:\")\n",
        "c=input('輸入第三個成績:')\n",
        "d=input(\"輸入第四個成績:\")\n",
        "e=input('輸入第五個成績:')\n",
        "print((int(b)+int(c)+int(d))/3)\n"
      ],
      "metadata": {
        "colab": {
          "base_uri": "https://localhost:8080/"
        },
        "id": "J8tTwdfzzcUw",
        "outputId": "716c3d69-acab-4f3d-f48a-6afd055374f8"
      },
      "execution_count": null,
      "outputs": [
        {
          "output_type": "stream",
          "name": "stdout",
          "text": [
            "輸入五個成績由大排到小\n",
            "輸入第一個成績:100\n",
            "輸入第二個成績:95\n",
            "輸入第三個成績:90\n",
            "輸入第四個成績:85\n",
            "輸入第五個成績:84\n",
            "90.0\n"
          ]
        }
      ]
    },
    {
      "cell_type": "code",
      "source": [
        "n1=float(input(\"請輸入數字:\"))\n",
        "c=input(\"請輸入運算符號:\")\n",
        "n2=float(input(\"請輸入數字:\"))\n",
        "\n",
        "if c==\"+\" :\n",
        "  print(n1+n2)\n",
        "elif c==\"-\":\n",
        "  print(n1-n2)\n",
        "elif c==\"*\":\n",
        "  print(n1*n2)\n",
        "elif c==\"/\":\n",
        "  print(n1/n2)"
      ],
      "metadata": {
        "colab": {
          "base_uri": "https://localhost:8080/"
        },
        "id": "XhNbfRP62ZZY",
        "outputId": "c0f4302d-ac68-43f1-f3f9-7d676388c171"
      },
      "execution_count": null,
      "outputs": [
        {
          "output_type": "stream",
          "name": "stdout",
          "text": [
            "請輸入數字:12\n",
            "請輸入運算符號:*\n",
            "請輸入數字:2\n",
            "24.0\n"
          ]
        }
      ]
    },
    {
      "cell_type": "code",
      "source": [
        "y=int(input(\"輸入年分\"))\n",
        "if y<=1582:\n",
        "  if y%4==0:\n",
        "    print(\"閏年\")\n",
        "  else:\n",
        "    print(\"平年\")\n",
        "if y>1582:\n",
        "  if y%400==0  :\n",
        "    print(\"閏年\")\n",
        "  if y%4==0:\n",
        "   if y%100==0  :\n",
        "     print(\"平年\")\n",
        "   else:\n",
        "    print(\"閏年\")\n",
        "\n",
        "  else :\n",
        "    print(\"平年\")"
      ],
      "metadata": {
        "colab": {
          "base_uri": "https://localhost:8080/"
        },
        "id": "OLhEYDBw70sH",
        "outputId": "4fda082c-d308-41fe-db52-ff4d157de773"
      },
      "execution_count": null,
      "outputs": [
        {
          "output_type": "stream",
          "name": "stdout",
          "text": [
            "輸入年分1582\n",
            "平年\n"
          ]
        }
      ]
    },
    {
      "cell_type": "code",
      "source": [
        "\n",
        "for a in range(1,10):\n",
        "  for b in range(1,10):\n",
        "     c= f' {a} x {b}={a*b}'\n",
        "     print(f'{c:<15s}' ,end=\"\")\n",
        "  print()"
      ],
      "metadata": {
        "colab": {
          "base_uri": "https://localhost:8080/"
        },
        "id": "v_s2fsWDg_10",
        "outputId": "894d86bd-3c04-40b1-9241-3695faecdfd3"
      },
      "execution_count": null,
      "outputs": [
        {
          "output_type": "stream",
          "name": "stdout",
          "text": [
            " 1 x 1=1        1 x 2=2        1 x 3=3        1 x 4=4        1 x 5=5        1 x 6=6        1 x 7=7        1 x 8=8        1 x 9=9       \n",
            " 2 x 1=2        2 x 2=4        2 x 3=6        2 x 4=8        2 x 5=10       2 x 6=12       2 x 7=14       2 x 8=16       2 x 9=18      \n",
            " 3 x 1=3        3 x 2=6        3 x 3=9        3 x 4=12       3 x 5=15       3 x 6=18       3 x 7=21       3 x 8=24       3 x 9=27      \n",
            " 4 x 1=4        4 x 2=8        4 x 3=12       4 x 4=16       4 x 5=20       4 x 6=24       4 x 7=28       4 x 8=32       4 x 9=36      \n",
            " 5 x 1=5        5 x 2=10       5 x 3=15       5 x 4=20       5 x 5=25       5 x 6=30       5 x 7=35       5 x 8=40       5 x 9=45      \n",
            " 6 x 1=6        6 x 2=12       6 x 3=18       6 x 4=24       6 x 5=30       6 x 6=36       6 x 7=42       6 x 8=48       6 x 9=54      \n",
            " 7 x 1=7        7 x 2=14       7 x 3=21       7 x 4=28       7 x 5=35       7 x 6=42       7 x 7=49       7 x 8=56       7 x 9=63      \n",
            " 8 x 1=8        8 x 2=16       8 x 3=24       8 x 4=32       8 x 5=40       8 x 6=48       8 x 7=56       8 x 8=64       8 x 9=72      \n",
            " 9 x 1=9        9 x 2=18       9 x 3=27       9 x 4=36       9 x 5=45       9 x 6=54       9 x 7=63       9 x 8=72       9 x 9=81      \n"
          ]
        }
      ]
    },
    {
      "cell_type": "code",
      "source": [
        "a=1\n",
        "\n",
        "while a<=9:\n",
        "   b=1\n",
        "   while b<=9:\n",
        "      c=f'{b}x{a}={b*a}'\n",
        "      print(f'{c:<15s}',end=\"\")\n",
        "      b+=1\n",
        "   a+=1\n",
        "   print()"
      ],
      "metadata": {
        "colab": {
          "base_uri": "https://localhost:8080/"
        },
        "id": "FUUotLDkopVb",
        "outputId": "95933591-4552-4184-f89f-b930563d1a7e"
      },
      "execution_count": null,
      "outputs": [
        {
          "output_type": "stream",
          "name": "stdout",
          "text": [
            "1x1=1          2x1=2          3x1=3          4x1=4          5x1=5          6x1=6          7x1=7          8x1=8          9x1=9          \n",
            "1x2=2          2x2=4          3x2=6          4x2=8          5x2=10         6x2=12         7x2=14         8x2=16         9x2=18         \n",
            "1x3=3          2x3=6          3x3=9          4x3=12         5x3=15         6x3=18         7x3=21         8x3=24         9x3=27         \n",
            "1x4=4          2x4=8          3x4=12         4x4=16         5x4=20         6x4=24         7x4=28         8x4=32         9x4=36         \n",
            "1x5=5          2x5=10         3x5=15         4x5=20         5x5=25         6x5=30         7x5=35         8x5=40         9x5=45         \n",
            "1x6=6          2x6=12         3x6=18         4x6=24         5x6=30         6x6=36         7x6=42         8x6=48         9x6=54         \n",
            "1x7=7          2x7=14         3x7=21         4x7=28         5x7=35         6x7=42         7x7=49         8x7=56         9x7=63         \n",
            "1x8=8          2x8=16         3x8=24         4x8=32         5x8=40         6x8=48         7x8=56         8x8=64         9x8=72         \n",
            "1x9=9          2x9=18         3x9=27         4x9=36         5x9=45         6x9=54         7x9=63         8x9=72         9x9=81         \n"
          ]
        }
      ]
    },
    {
      "cell_type": "markdown",
      "source": [],
      "metadata": {
        "id": "u0fPDRBL70N5"
      }
    },
    {
      "cell_type": "code",
      "source": [
        "tree=8\n",
        "s=1\n",
        "\n",
        "for i in range(tree):\n",
        "  print((' '*(tree-i)+('*'*s)))\n",
        "  s+=2\n",
        "print((' '*7)+'***')\n",
        "print((' '*7)+'***')\n",
        "print((' '*7)+'***')"
      ],
      "metadata": {
        "colab": {
          "base_uri": "https://localhost:8080/"
        },
        "id": "N5Qqk7sRFo7e",
        "outputId": "11542732-5b2e-42d7-b128-21eacbae56d8"
      },
      "execution_count": null,
      "outputs": [
        {
          "output_type": "stream",
          "name": "stdout",
          "text": [
            "        *\n",
            "       ***\n",
            "      *****\n",
            "     *******\n",
            "    *********\n",
            "   ***********\n",
            "  *************\n",
            " ***************\n",
            "       ***\n",
            "       ***\n",
            "       ***\n"
          ]
        }
      ]
    },
    {
      "cell_type": "code",
      "source": [
        "from IPython.utils.path import random\n",
        "ans=random.sample(range(1,10),4)\n",
        "print(ans)\n",
        "a=b=n=0\n",
        "num=0\n",
        "while a!=4:\n",
        "  num+=1\n",
        "  a=b=n=0\n",
        "  u=list(input(\"請輸入四個數字\"))\n",
        "  if len(u)>4:\n",
        "    print(\"輸入數字過多\")\n",
        "    input(\"請輸入四個數字\")\n",
        "  else:\n",
        "    for i in u:\n",
        "      if int(u[n])==ans[n]:\n",
        "        a+=1\n",
        "      else:\n",
        "        if int(i) in ans:\n",
        "          b+=1\n",
        "      n+=1\n",
        "  output=','.join(u).replace(',','')\n",
        "  print(f'{output}:{a}A{b}B')\n",
        "print(f'答對了!總共猜了{num}次')\n"
      ],
      "metadata": {
        "colab": {
          "base_uri": "https://localhost:8080/"
        },
        "id": "yvv5_GsLN3IU",
        "outputId": "0d6570e8-f46e-4fbe-8656-adb2ca112dd0"
      },
      "execution_count": null,
      "outputs": [
        {
          "output_type": "stream",
          "name": "stdout",
          "text": [
            "[7, 1, 4, 3]\n",
            "請輸入四個數字7143\n",
            "7143:4A0B\n",
            "答對了!總共猜了1次\n"
          ]
        }
      ]
    },
    {
      "cell_type": "code",
      "source": [
        "tree=int(input(\"輸入樹的高度(至少大於7)\"))\n",
        "\n",
        "s=1\n",
        "if tree<7:\n",
        "  print(\"樹的高度至少大於7\")\n",
        "else:\n",
        "\n",
        "  for i in range(tree):\n",
        "    print((' '*(tree-i)+('*'*s)))\n",
        "    s+=2\n",
        "  for a in range(5):\n",
        "    print((' '*(tree-1))+'***')"
      ],
      "metadata": {
        "colab": {
          "base_uri": "https://localhost:8080/"
        },
        "id": "TsaFRUtabmQh",
        "outputId": "33b0cf1c-0b91-43fe-f7d7-4bfd2b8c01ff"
      },
      "execution_count": null,
      "outputs": [
        {
          "output_type": "stream",
          "name": "stdout",
          "text": [
            "樹的高度(至少大於7)9\n",
            "         *\n",
            "        ***\n",
            "       *****\n",
            "      *******\n",
            "     *********\n",
            "    ***********\n",
            "   *************\n",
            "  ***************\n",
            " *****************\n",
            "        ***\n",
            "        ***\n",
            "        ***\n",
            "        ***\n",
            "        ***\n"
          ]
        }
      ]
    },
    {
      "cell_type": "code",
      "source": [
        "def bmi():\n",
        "   try:\n",
        "     h=float(input(\"身高(單位公尺)\"))\n",
        "     w=float(input(\"體重(單位公斤)\"))\n",
        "     bmi=w/h/h\n",
        "     if bmi<18.5:\n",
        "      a=\"過輕\"\n",
        "     elif 18.5<=bmi<24:\n",
        "      a=\"適中\"\n",
        "     elif 24<=bmi<27:\n",
        "      a=\"過重\"\n",
        "     else:\n",
        "      a=\"肥胖\"\n",
        "     return bmi,a\n",
        "\n",
        "   except Exception as a:\n",
        "     a=\"輸入內容錯誤\"\n",
        "     return a\n",
        "bmi()"
      ],
      "metadata": {
        "colab": {
          "base_uri": "https://localhost:8080/"
        },
        "id": "HDkgzhYZl80g",
        "outputId": "e6d24f5f-cb01-4c7e-9d93-49462e36482b"
      },
      "execution_count": null,
      "outputs": [
        {
          "name": "stdout",
          "output_type": "stream",
          "text": [
            "身高(單位公尺)1.91\n",
            "體重(單位公斤)82\n"
          ]
        },
        {
          "output_type": "execute_result",
          "data": {
            "text/plain": [
              "(22.47745401715962, '適中')"
            ]
          },
          "metadata": {},
          "execution_count": 1
        }
      ]
    }
  ]
}